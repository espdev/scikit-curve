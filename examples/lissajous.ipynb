{
 "cells": [
  {
   "cell_type": "code",
   "execution_count": 1,
   "metadata": {
    "pycharm": {
     "is_executing": false
    }
   },
   "outputs": [],
   "source": [
    "import numpy as np\n",
    "import matplotlib.pyplot as plt\n",
    "\n",
    "from curve.curves import lissajous\n",
    "from curve.plot import curveplot"
   ]
  },
  {
   "cell_type": "code",
   "execution_count": 2,
   "metadata": {},
   "outputs": [],
   "source": [
    "from ipywidgets import interact\n",
    "import ipywidgets as widgets"
   ]
  },
  {
   "cell_type": "code",
   "execution_count": 3,
   "metadata": {},
   "outputs": [],
   "source": [
    "def plot_curve(crv):\n",
    "    intersections = crv.intersect()\n",
    "    print(f'The number of intersections: {len(intersections)}')\n",
    "\n",
    "    intsct_px = [] \n",
    "    intsct_py = []\n",
    "\n",
    "    for n, intersection in enumerate(intersections, start=1):\n",
    "        p = intersection.intersect_point\n",
    "        intsct_px.append(p[0])    \n",
    "        intsct_py.append(p[1])\n",
    "\n",
    "    start = crv[0]\n",
    "    end = crv[-1]\n",
    "    \n",
    "    f, ax = plt.subplots(1, 1, figsize=(9, 7))\n",
    "\n",
    "    curveplot(crv, param='speed', marker='.', show_normals=True, axes=ax)\n",
    "\n",
    "    ax.scatter([start[0]], [start[1]], color='r', marker='.')\n",
    "    ax.scatter([end[0]], [end[1]], color='b', marker='.')\n",
    "\n",
    "    if intsct_px:\n",
    "        ax.scatter(intsct_px, intsct_py)\n",
    "\n",
    "def make_curve(p_count=300, a=2.0, b=3.0, d=0.0):\n",
    "    crv = lissajous(t_start=-0.045, t_stop=np.pi*2-0.045, p_count=p_count, a=a, b=b, d=d)[1:]\n",
    "    plot_curve(crv)"
   ]
  },
  {
   "cell_type": "code",
   "execution_count": 4,
   "metadata": {},
   "outputs": [
    {
     "data": {
      "application/vnd.jupyter.widget-view+json": {
       "model_id": "bb674a781a9a4bc383323ed0c5946770",
       "version_major": 2,
       "version_minor": 0
      },
      "text/plain": [
       "interactive(children=(IntSlider(value=1000, continuous_update=False, description='p_count', max=1000, min=10),…"
      ]
     },
     "metadata": {},
     "output_type": "display_data"
    },
    {
     "data": {
      "text/plain": [
       "<function __main__.make_curve(p_count=300, a=2.0, b=3.0, d=0.0)>"
      ]
     },
     "execution_count": 4,
     "metadata": {},
     "output_type": "execute_result"
    }
   ],
   "source": [
    "interact(\n",
    "    make_curve, \n",
    "    p_count=widgets.IntSlider(min=10, max=1000, step=1, value=1000, continuous_update=False), \n",
    "    a=widgets.FloatSlider(min=1.0, max=10.0, step=1.0, value=8.0, continuous_update=False), \n",
    "    b=widgets.FloatSlider(min=1.0, max=10.0, step=1.0, value=7.0, continuous_update=False), \n",
    "    d=widgets.FloatSlider(min=-10.0, max=10.0, step=0.1, value=0.0, continuous_update=False)\n",
    ")"
   ]
  }
 ],
 "metadata": {
  "kernelspec": {
   "display_name": "Python 3",
   "language": "python",
   "name": "python3"
  },
  "language_info": {
   "codemirror_mode": {
    "name": "ipython",
    "version": 3
   },
   "file_extension": ".py",
   "mimetype": "text/x-python",
   "name": "python",
   "nbconvert_exporter": "python",
   "pygments_lexer": "ipython3",
   "version": "3.7.4"
  },
  "pycharm": {
   "stem_cell": {
    "cell_type": "raw",
    "metadata": {
     "collapsed": false
    },
    "source": []
   }
  }
 },
 "nbformat": 4,
 "nbformat_minor": 1
}
